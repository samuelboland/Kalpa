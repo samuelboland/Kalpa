{
 "cells": [
  {
   "cell_type": "markdown",
   "metadata": {},
   "source": [
    "# Morrowind Normal Map Generation via CycleGAN\n",
    "Using implementation of CycleGAN here: https://github.com/LynnHo/CycleGAN-Tensorflow-2\n",
    "\n",
    "LICENSE: MIT"
   ]
  },
  {
   "cell_type": "markdown",
   "metadata": {},
   "source": [
    "The purpose of this document is to explain how to utilize CycleGANs to generate normal maps for input texture for The Elder Scrolls III: Morrowind's open-source engine reimplementation, OpenMW. \n",
    "\n",
    "This document is intended for advanced users. If you are not comfortable in the command line and in troubleshooting issues on your own, then this guide is not currently intended for you."
   ]
  },
  {
   "cell_type": "markdown",
   "metadata": {},
   "source": [
    "# Step 0 - Preliminary Setup\n",
    "\n",
    "First, get Tensorflow running on your computer. The official installation instructions are here: https://www.tensorflow.org/install/gpu. It is strongly recommended to use a GPU for this, which requires a modern Nvidia GPU. I am using an RTX 2060 non-super with 6GB VRAM - and I wish I had more.\n",
    "\n",
    "Second, download the CycleGAN implementation listed above. Ensure that you have it working by training it on the test dataset mentioned in the repository. \n",
    "\n",
    "Place the folder containing the GAN in the folder with this notebook. I suggest creating a new folder for this purpose, as we will be creating many files and directories. If this is on your desktop or in your downloads folder, it will get messy."
   ]
  },
  {
   "cell_type": "markdown",
   "metadata": {},
   "source": [
    "# Step 1 - Dataset Preprocessing and Segmentation\n",
    "\n"
   ]
  },
  {
   "cell_type": "markdown",
   "metadata": {},
   "source": [
    "The network operates on 256x256 square images. We need to adjust our images to fit this requirement, but we also want to keep a record of the original image size so that we can get transform our processed normalmaps back to that size once we are done. \n",
    "\n",
    "To accomplish this, I have written the following script that will take images in the subdirectory \"Raw_Input_<X>\" and convert them to the required size and format and store them in the \"Processed_Input_<X>\" directory.\n",
    "    \n",
    "You should have one set of folders each for Diffuse and Normals. "
   ]
  },
  {
   "cell_type": "code",
   "execution_count": 5,
   "metadata": {},
   "outputs": [],
   "source": [
    "import os\n",
    "import math\n",
    "import time\n",
    "import random\n",
    "from os import path\n",
    "from PIL import Image\n",
    "\n",
    "GAN_location = \"./CycleGAN-Tensorflow-2-master/\""
   ]
  },
  {
   "cell_type": "code",
   "execution_count": 6,
   "metadata": {},
   "outputs": [
    {
     "name": "stdout",
     "output_type": "stream",
     "text": [
      "Processing: cheydinhalfloortile01.jpg\n",
      "Processing: stackceilng02.jpg\n",
      "Processing: tx_brickedge_right_01.jpg\n",
      "Processing: tx_common_stone_floor.jpg\n",
      "Processing: tx_dae_floor_01.jpg\n",
      "Processing: tx_redoran_tile_04.jpg\n",
      "Processing: Tx_Rough_Stone_Wall.jpg\n",
      "Processing: tx_shingles_01.jpg\n",
      "Processing: tx_telv_floor_int_03.jpg\n",
      "Processing: tx_ai_mainroad_01_nh.jpg\n",
      "Processing: tx_bc_muck_nh.jpg\n",
      "Processing: tx_brickedge_left_01_nh.jpg\n",
      "Processing: tx_brickedge_right_01_nh.jpg\n",
      "Processing: tx_common_door_nh.jpg\n",
      "Processing: tx_common_stone_floor_nh.jpg\n",
      "Processing: tx_doorbricks_01_nh.jpg\n",
      "Processing: tx_imp_floor_02_nh.jpg\n",
      "Processing: tx_imp_full_01_nh.jpg\n",
      "Processing: tx_imp_half_01_nh.jpg\n",
      "Processing: tx_imp_wall_01_nh.jpg\n",
      "Processing: tx_imp_wall_02_nh.jpg\n",
      "Processing: tx_imp_wall_03_nh.jpg\n",
      "Processing: tx_shingles_01_nh.jpg\n",
      "Processing: tx_v_base_09_nh.jpg\n",
      "Processing: tx_v_base_10_nh.jpg\n",
      "Processing: tx_v_bridgedetail_01_nh.jpg\n",
      "Processing: tx_v_bridgedetail_04_nh.jpg\n",
      "Processing: tx_v_floor_01_nh.jpg\n",
      "Processing: tx_v_strip_02_nh.jpg\n",
      "Processing: tx_wall_brick_imp_01_nh.jpg\n",
      "Processing: tx_wall_stone_01_nh.jpg\n",
      "Processing: tx_wg_cobblestones_01_nh.jpg\n",
      "Processing: tx_wg_cobblestone_01_nh.jpg\n",
      "Processing: tx_wood_ceilingpanel_01_nh.jpg\n",
      "Processing: tx_wood_ceilingpanel_02_nh.jpg\n",
      "Processing: tx_wood_wornfloor_01_nh.jpg\n"
     ]
    }
   ],
   "source": [
    "input_dirs = ['./Raw_Input_Diffuse/','./Raw_Input_Normal/']\n",
    "target_dirs= ['./Processed_Input_Diffuse/', './Processed_Input_Normal/']\n",
    "\n",
    "size = 256\n",
    "\n",
    "def convertAndResize(data_dir,target):\n",
    "    if path.exists(target):\n",
    "        print(\"Using pre-existing resize directory.\")\n",
    "    else:\n",
    "        os.mkdir(target)\n",
    "        \n",
    "    for item in os.listdir(data_dir):\n",
    "        print(\"Processing: \"+item)\n",
    "        im=Image.open(data_dir+item).convert('RGBA')\n",
    "        im = im.resize((size,size), Image.ANTIALIAS)\n",
    "        # Drop the last 4 characters, usually the previous filename \".dds\"\n",
    "        im.save(target+item[0:-4]+\".png\",\"PNG\")\n",
    "        im.close()   \n",
    "    \n",
    "for i in range(2):\n",
    "    convertAndResize(input_dirs[i],target_dirs[i])\n",
    "    "
   ]
  },
  {
   "cell_type": "markdown",
   "metadata": {},
   "source": [
    "Now we want to automatically segment the processed inputs into Test and Train data. Most of our images will be for Training. A few will be held back for testing. \n",
    "\n",
    "The following script will run on both of the Processed Input folders and put a random X% of the images into the testing set, and move the rest of them into the training set. X is 20 by default, but you can change that."
   ]
  },
  {
   "cell_type": "code",
   "execution_count": 7,
   "metadata": {},
   "outputs": [
    {
     "name": "stdout",
     "output_type": "stream",
     "text": [
      "./Processed_Input_Diffuse/\n",
      "9\n",
      "1.8\n",
      "Moving 1 files to testing directory for./Processed_Input_Diffuse/\n",
      "====== Selecting random files for testing directory ======\n",
      "./Processed_Input_Diffuse/\n",
      "Moving file tx_brickedge_right_01.png\n",
      "====== Moving remaining files to training directory ======\n",
      "====== Segmentation Complete ======\n",
      "./Processed_Input_Normal/\n",
      "27\n",
      "5.4\n",
      "Moving 5 files to testing directory for./Processed_Input_Normal/\n",
      "====== Selecting random files for testing directory ======\n",
      "./Processed_Input_Normal/\n",
      "Moving file tx_v_strip_02_nh.png\n",
      "./Processed_Input_Normal/\n",
      "Moving file tx_imp_wall_02_nh.png\n",
      "./Processed_Input_Normal/\n",
      "Moving file tx_imp_wall_01_nh.png\n",
      "./Processed_Input_Normal/\n",
      "Moving file tx_wood_ceilingpanel_02_nh.png\n",
      "./Processed_Input_Normal/\n",
      "Moving file tx_wg_cobblestones_01_nh.png\n",
      "====== Moving remaining files to training directory ======\n",
      "====== Segmentation Complete ======\n"
     ]
    }
   ],
   "source": [
    "\n",
    "percent_to_move = .2\n",
    "ahora = int(time.time())\n",
    "\n",
    "from_dirs=['./Processed_Input_Diffuse/', './Processed_Input_Normal/']\n",
    "train_dirs = [GAN_location+'datasets/'+str(ahora)+'/'+'TrainA/',GAN_location+'datasets/'+str(ahora)+'/'+'TrainB/']\n",
    "test_dirs = [GAN_location+'datasets/'+str(ahora)+'/'+'TestA/',GAN_location+'datasets/'+str(ahora)+'/'+'TestB/']\n",
    "\n",
    "def prepare():\n",
    "    for item in train_dirs + test_dirs:\n",
    "        if path.exists(item):\n",
    "            print (item + \"directory Exists.\")\n",
    "        else:\n",
    "            os.makedirs(item)\n",
    "\n",
    "# Find the number of files in the directories. This is clunky.\n",
    "def find_number_of_files(directory):\n",
    "    print(directory)\n",
    "    count = len([name for name in os.listdir(directory)])\n",
    "    return count\n",
    "\n",
    "# Randomly put x percent of the files into the test directories\n",
    "def segment_test_files(from_dir, train_dir, test_dir, percent_to_move):\n",
    "    count = find_number_of_files(from_dir)\n",
    "    num_to_move = count * percent_to_move\n",
    "    print(count)\n",
    "    print(num_to_move)\n",
    "    \n",
    "    # Adjust for floating-point magic\n",
    "    num_to_move = int(math.floor(num_to_move))\n",
    "    \n",
    "    print (\"Moving \"+str(num_to_move)+\" files to testing directory for\"+from_dir)\n",
    "\n",
    "    # Grab the random files and move them to the Test Directory\n",
    "    print(\"====== Selecting random files for testing directory ======\")\n",
    "    for i in range(num_to_move):\n",
    "        count = find_number_of_files(from_dir)\n",
    "        items = os.listdir(from_dir)\n",
    "        to_move = items[random.randint(0,count-1)]\n",
    "        print(\"Moving file \"+to_move)\n",
    "        os.rename(from_dir + to_move, test_dir + to_move)\n",
    "        \n",
    "    # Move the rest of the files to the Train directory\n",
    "    print(\"====== Moving remaining files to training directory ======\")\n",
    "    items = os.listdir(from_dir)\n",
    "    for item in items:\n",
    "        os.rename(from_dir + item, train_dir+item)\n",
    "    print (\"====== Segmentation Complete ======\")\n",
    "\n",
    "prepare()\n",
    "\n",
    "for i in range(2):\n",
    "    segment_test_files(from_dirs[i],train_dirs[i],test_dirs[i],percent_to_move)\n",
    "        \n",
    "        \n",
    "        \n"
   ]
  },
  {
   "cell_type": "code",
   "execution_count": 10,
   "metadata": {},
   "outputs": [
    {
     "ename": "PermissionError",
     "evalue": "[WinError 32] The process cannot access the file because it is being used by another process: '.'",
     "output_type": "error",
     "traceback": [
      "\u001b[1;31m---------------------------------------------------------------------------\u001b[0m",
      "\u001b[1;31mPermissionError\u001b[0m                           Traceback (most recent call last)",
      "\u001b[1;32m<ipython-input-10-61dfbe715c52>\u001b[0m in \u001b[0;36m<module>\u001b[1;34m\u001b[0m\n\u001b[0;32m     12\u001b[0m \u001b[1;33m\u001b[0m\u001b[0m\n\u001b[0;32m     13\u001b[0m \u001b[0mcleanup\u001b[0m\u001b[1;33m(\u001b[0m\u001b[0mdirectories\u001b[0m\u001b[1;33m)\u001b[0m\u001b[1;33m\u001b[0m\u001b[1;33m\u001b[0m\u001b[0m\n\u001b[1;32m---> 14\u001b[1;33m \u001b[0mcleanup\u001b[0m\u001b[1;33m(\u001b[0m\u001b[0mGAN_location\u001b[0m\u001b[1;33m+\u001b[0m\u001b[0mstr\u001b[0m\u001b[1;33m(\u001b[0m\u001b[0mahora\u001b[0m\u001b[1;33m)\u001b[0m\u001b[1;33m)\u001b[0m\u001b[1;33m\u001b[0m\u001b[1;33m\u001b[0m\u001b[0m\n\u001b[0m\u001b[0;32m     15\u001b[0m \u001b[1;33m\u001b[0m\u001b[0m\n\u001b[0;32m     16\u001b[0m \u001b[0mprint\u001b[0m\u001b[1;33m(\u001b[0m\u001b[1;34m\"Clean Complete.\"\u001b[0m\u001b[1;33m)\u001b[0m\u001b[1;33m\u001b[0m\u001b[1;33m\u001b[0m\u001b[0m\n",
      "\u001b[1;32m<ipython-input-10-61dfbe715c52>\u001b[0m in \u001b[0;36mcleanup\u001b[1;34m(directories)\u001b[0m\n\u001b[0;32m      9\u001b[0m \u001b[1;32mdef\u001b[0m \u001b[0mcleanup\u001b[0m\u001b[1;33m(\u001b[0m\u001b[0mdirectories\u001b[0m\u001b[1;33m)\u001b[0m\u001b[1;33m:\u001b[0m\u001b[1;33m\u001b[0m\u001b[1;33m\u001b[0m\u001b[0m\n\u001b[0;32m     10\u001b[0m     \u001b[1;32mfor\u001b[0m \u001b[0mitem\u001b[0m \u001b[1;32min\u001b[0m \u001b[0mdirectories\u001b[0m\u001b[1;33m:\u001b[0m\u001b[1;33m\u001b[0m\u001b[1;33m\u001b[0m\u001b[0m\n\u001b[1;32m---> 11\u001b[1;33m         \u001b[0mshutil\u001b[0m\u001b[1;33m.\u001b[0m\u001b[0mrmtree\u001b[0m\u001b[1;33m(\u001b[0m\u001b[0mitem\u001b[0m\u001b[1;33m)\u001b[0m\u001b[1;33m\u001b[0m\u001b[1;33m\u001b[0m\u001b[0m\n\u001b[0m\u001b[0;32m     12\u001b[0m \u001b[1;33m\u001b[0m\u001b[0m\n\u001b[0;32m     13\u001b[0m \u001b[0mcleanup\u001b[0m\u001b[1;33m(\u001b[0m\u001b[0mdirectories\u001b[0m\u001b[1;33m)\u001b[0m\u001b[1;33m\u001b[0m\u001b[1;33m\u001b[0m\u001b[0m\n",
      "\u001b[1;32m~\\Desktop\\Python3.7\\lib\\shutil.py\u001b[0m in \u001b[0;36mrmtree\u001b[1;34m(path, ignore_errors, onerror)\u001b[0m\n\u001b[0;32m    514\u001b[0m             \u001b[1;31m# can't continue even if onerror hook returns\u001b[0m\u001b[1;33m\u001b[0m\u001b[1;33m\u001b[0m\u001b[1;33m\u001b[0m\u001b[0m\n\u001b[0;32m    515\u001b[0m             \u001b[1;32mreturn\u001b[0m\u001b[1;33m\u001b[0m\u001b[1;33m\u001b[0m\u001b[0m\n\u001b[1;32m--> 516\u001b[1;33m         \u001b[1;32mreturn\u001b[0m \u001b[0m_rmtree_unsafe\u001b[0m\u001b[1;33m(\u001b[0m\u001b[0mpath\u001b[0m\u001b[1;33m,\u001b[0m \u001b[0monerror\u001b[0m\u001b[1;33m)\u001b[0m\u001b[1;33m\u001b[0m\u001b[1;33m\u001b[0m\u001b[0m\n\u001b[0m\u001b[0;32m    517\u001b[0m \u001b[1;33m\u001b[0m\u001b[0m\n\u001b[0;32m    518\u001b[0m \u001b[1;31m# Allow introspection of whether or not the hardening against symlink\u001b[0m\u001b[1;33m\u001b[0m\u001b[1;33m\u001b[0m\u001b[1;33m\u001b[0m\u001b[0m\n",
      "\u001b[1;32m~\\Desktop\\Python3.7\\lib\\shutil.py\u001b[0m in \u001b[0;36m_rmtree_unsafe\u001b[1;34m(path, onerror)\u001b[0m\n\u001b[0;32m    402\u001b[0m         \u001b[0mos\u001b[0m\u001b[1;33m.\u001b[0m\u001b[0mrmdir\u001b[0m\u001b[1;33m(\u001b[0m\u001b[0mpath\u001b[0m\u001b[1;33m)\u001b[0m\u001b[1;33m\u001b[0m\u001b[1;33m\u001b[0m\u001b[0m\n\u001b[0;32m    403\u001b[0m     \u001b[1;32mexcept\u001b[0m \u001b[0mOSError\u001b[0m\u001b[1;33m:\u001b[0m\u001b[1;33m\u001b[0m\u001b[1;33m\u001b[0m\u001b[0m\n\u001b[1;32m--> 404\u001b[1;33m         \u001b[0monerror\u001b[0m\u001b[1;33m(\u001b[0m\u001b[0mos\u001b[0m\u001b[1;33m.\u001b[0m\u001b[0mrmdir\u001b[0m\u001b[1;33m,\u001b[0m \u001b[0mpath\u001b[0m\u001b[1;33m,\u001b[0m \u001b[0msys\u001b[0m\u001b[1;33m.\u001b[0m\u001b[0mexc_info\u001b[0m\u001b[1;33m(\u001b[0m\u001b[1;33m)\u001b[0m\u001b[1;33m)\u001b[0m\u001b[1;33m\u001b[0m\u001b[1;33m\u001b[0m\u001b[0m\n\u001b[0m\u001b[0;32m    405\u001b[0m \u001b[1;33m\u001b[0m\u001b[0m\n\u001b[0;32m    406\u001b[0m \u001b[1;31m# Version using fd-based APIs to protect against races\u001b[0m\u001b[1;33m\u001b[0m\u001b[1;33m\u001b[0m\u001b[1;33m\u001b[0m\u001b[0m\n",
      "\u001b[1;32m~\\Desktop\\Python3.7\\lib\\shutil.py\u001b[0m in \u001b[0;36m_rmtree_unsafe\u001b[1;34m(path, onerror)\u001b[0m\n\u001b[0;32m    400\u001b[0m                 \u001b[0monerror\u001b[0m\u001b[1;33m(\u001b[0m\u001b[0mos\u001b[0m\u001b[1;33m.\u001b[0m\u001b[0munlink\u001b[0m\u001b[1;33m,\u001b[0m \u001b[0mfullname\u001b[0m\u001b[1;33m,\u001b[0m \u001b[0msys\u001b[0m\u001b[1;33m.\u001b[0m\u001b[0mexc_info\u001b[0m\u001b[1;33m(\u001b[0m\u001b[1;33m)\u001b[0m\u001b[1;33m)\u001b[0m\u001b[1;33m\u001b[0m\u001b[1;33m\u001b[0m\u001b[0m\n\u001b[0;32m    401\u001b[0m     \u001b[1;32mtry\u001b[0m\u001b[1;33m:\u001b[0m\u001b[1;33m\u001b[0m\u001b[1;33m\u001b[0m\u001b[0m\n\u001b[1;32m--> 402\u001b[1;33m         \u001b[0mos\u001b[0m\u001b[1;33m.\u001b[0m\u001b[0mrmdir\u001b[0m\u001b[1;33m(\u001b[0m\u001b[0mpath\u001b[0m\u001b[1;33m)\u001b[0m\u001b[1;33m\u001b[0m\u001b[1;33m\u001b[0m\u001b[0m\n\u001b[0m\u001b[0;32m    403\u001b[0m     \u001b[1;32mexcept\u001b[0m \u001b[0mOSError\u001b[0m\u001b[1;33m:\u001b[0m\u001b[1;33m\u001b[0m\u001b[1;33m\u001b[0m\u001b[0m\n\u001b[0;32m    404\u001b[0m         \u001b[0monerror\u001b[0m\u001b[1;33m(\u001b[0m\u001b[0mos\u001b[0m\u001b[1;33m.\u001b[0m\u001b[0mrmdir\u001b[0m\u001b[1;33m,\u001b[0m \u001b[0mpath\u001b[0m\u001b[1;33m,\u001b[0m \u001b[0msys\u001b[0m\u001b[1;33m.\u001b[0m\u001b[0mexc_info\u001b[0m\u001b[1;33m(\u001b[0m\u001b[1;33m)\u001b[0m\u001b[1;33m)\u001b[0m\u001b[1;33m\u001b[0m\u001b[1;33m\u001b[0m\u001b[0m\n",
      "\u001b[1;31mPermissionError\u001b[0m: [WinError 32] The process cannot access the file because it is being used by another process: '.'"
     ]
    }
   ],
   "source": [
    "import shutil\n",
    "import itertools\n",
    "\n",
    "directories = [from_dirs+train_dirs+test_dirs]\n",
    "\n",
    "# Doing this because Python doesn't have a standard \"flatten\" method. I miss Ruby. \n",
    "directories = list(itertools.chain(*directories))\n",
    "\n",
    "def cleanup(directories):\n",
    "    for item in directories:\n",
    "        shutil.rmtree(item)\n",
    "        \n",
    "cleanup(directories)\n",
    "\n",
    "print(\"Clean Complete.\")"
   ]
  },
  {
   "cell_type": "markdown",
   "metadata": {},
   "source": [
    "# Step Two: Network Training\n",
    "\n",
    "You now have prepared data, and can begin training your network. You will set the name of this folder below. This process takes a while. It will run in the command prompt that you started jupyter from, and you can view the progress there. This notebook will likely be unresponsive while that process runs."
   ]
  },
  {
   "cell_type": "code",
   "execution_count": 9,
   "metadata": {},
   "outputs": [
    {
     "name": "stdout",
     "output_type": "stream",
     "text": [
      "python ./CycleGAN-Tensorflow-2-master/train.py --dataset 1587085272\n"
     ]
    }
   ],
   "source": [
    "\n",
    "print('python '+GAN_location+'train.py --dataset '+str(ahora))\n",
    "#os.system('python '+GAN_location+'train.py --dataset '+str(ahora))"
   ]
  },
  {
   "cell_type": "code",
   "execution_count": null,
   "metadata": {},
   "outputs": [],
   "source": []
  }
 ],
 "metadata": {
  "kernelspec": {
   "display_name": "Python 3",
   "language": "python",
   "name": "python3"
  },
  "language_info": {
   "codemirror_mode": {
    "name": "ipython",
    "version": 3
   },
   "file_extension": ".py",
   "mimetype": "text/x-python",
   "name": "python",
   "nbconvert_exporter": "python",
   "pygments_lexer": "ipython3",
   "version": "3.7.7"
  }
 },
 "nbformat": 4,
 "nbformat_minor": 4
}
